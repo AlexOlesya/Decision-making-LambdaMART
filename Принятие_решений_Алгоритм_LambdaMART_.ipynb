{
  "nbformat": 4,
  "nbformat_minor": 0,
  "metadata": {
    "colab": {
      "name": "Принятие решений: Алгоритм LambdaMART .ipynb",
      "provenance": []
    },
    "kernelspec": {
      "name": "python3",
      "display_name": "Python 3"
    },
    "language_info": {
      "name": "python"
    }
  },
  "cells": [
    {
      "cell_type": "markdown",
      "metadata": {
        "id": "Hb7mDYGB1Eol"
      },
      "source": [
        "**Алгоритм LambdaMART**\n",
        "\n",
        "**Тип:** pairwise метод\n",
        "\n",
        "**Данные:** нужно обязательно указывать qid -- попарные сравнения производятся только внутри одного запроса (пользователя). Ограничений к данным нет\n",
        "\n",
        "**Общий принцип работы:** \n",
        "\n",
        "Ранжирование превращается в задачу попарной классификации или регрессии: просматриваем пары элементов за раз, определяем оптимальный порядок для этой пары элементов, а затем используем его для определения окончательного ранжирования.\n",
        "\n",
        "LambdaMart объединяет LambdaRank и MART. В алгоритме MART используется gradient boosted decision trees для prediction. LambdaMart использует gradient boosted decision trees с функцией cost (от алгоритма LambdaRank), для решения задачи ранжирования.\n",
        "\n",
        "**Если подробнее:**\n",
        "\n",
        "MART \n",
        "\n",
        "MART – это бустинг, сделанный на регрессионных деревьях\n",
        "\n",
        "* Нам нужно понять, как обучать новое дерево, если мы уж обучили n-е количество деревьев\n",
        "* Фиксируем функцию ошибки, следующее дерево моделирует производную ошибки \n",
        "* Выбираем оптимальный шаг(минимизируем потери)\n",
        "\n",
        "LAMBDAMART\n",
        "\n",
        "* Добавляем в градиенты целевую метрику (в критерий ошибки (какое разбиение лучше) добавляется оценка качества ранжирования, за счет чего получаем ошибку, которая завязана на качестве ранжирования - насколько вариант с таким порядком лучше, чем вариант с другим порядком одной и той же пары)\n",
        "* Функция ошибки нам известна \n",
        "* В каждой точке собираем все «действующие силы» \n",
        "* Мы хотим сдвинуться в сторону минимума ошибки; значит,\n",
        "надо идти в сторону нуля производной\n",
        "* Веса бустинга подбираются как шаг метода\n",
        "Ньютона для каждого листа дерева\n",
        "\n",
        "\n"
      ]
    },
    {
      "cell_type": "markdown",
      "metadata": {
        "id": "1AzSIQ1xG4_C"
      },
      "source": [
        "Логика: рассматриваем положение документов друг относительно друга. Берем пару документов в рамках одного запроса и на основании имеющихся данных определяем какой документ должен быть раньше. За счет этого собираются результаты в pairwise оценке. \n",
        "\n",
        "Общая идея: специфицирцем ошибку того, что элементы находятся не в том порядке, далее минимизируем эту ошибку (наименьшее количество случаев, когда документы находятся не в правильнос порядке).\n",
        "\n",
        "Первоначальный RankNet предполагает штраф за то, что элементы располагаются не в правильном порядке, далее происходит минимизация функции, которая описывает этот штраф, с помощью стохастического градиентного спуска.\n",
        "\n",
        "\n",
        "В LambdaRank в функцию добавляется ndcg (что ускоряет результат).\n",
        "\n",
        "В LambdaMART для вычислений используются внутрирегресионные деревья, на каждом этапе на основе результатов регр.деревьев происходит сдвиг документа - выше или ниже (за счет попарных сравнений). \n",
        "\n",
        "\n"
      ]
    },
    {
      "cell_type": "markdown",
      "metadata": {
        "id": "M3WZAFk40fjM"
      },
      "source": [
        "МОДЕЛЬ"
      ]
    },
    {
      "cell_type": "code",
      "metadata": {
        "id": "PAA_HbWiLx-G"
      },
      "source": [
        "from sklearn.tree import DecisionTreeRegressor\n",
        "import numpy as np\n",
        "\n",
        "def dcg(scores):\n",
        "    \"\"\"\n",
        "    compute the DCG value based on the given score\n",
        "    :param scores: a score list of documents\n",
        "    :return v: DCG value\n",
        "    \"\"\"\n",
        "    v = 0\n",
        "    for i in range(len(scores)):\n",
        "        v += (np.power(2, scores[i]) - 1) / np.log2(i+2)  # i+2 is because i starts from 0\n",
        "    return v\n",
        "\n",
        "def single_dcg(scores, i, j):\n",
        "    \"\"\"\n",
        "    compute the single dcg that i-th element located j-th position\n",
        "    :param scores:\n",
        "    :param i:\n",
        "    :param j:\n",
        "    :return:\n",
        "    \"\"\"\n",
        "    return (np.power(2, scores[i]) - 1) / np.log2(j+2)\n"
      ],
      "execution_count": null,
      "outputs": []
    },
    {
      "cell_type": "code",
      "metadata": {
        "id": "eyHritO5L6Q3"
      },
      "source": [
        "\n",
        "def idcg(scores):\n",
        "    \"\"\"\n",
        "    compute the IDCG value (best dcg value) based on the given score\n",
        "    :param scores: a score list of documents\n",
        "    :return:  IDCG value\n",
        "    \"\"\"\n",
        "    best_scores = sorted(scores)[::-1]\n",
        "    return dcg(best_scores)\n",
        "\n",
        "\n",
        "def ndcg(scores):\n",
        "    \"\"\"\n",
        "    compute the NDCG value based on the given score\n",
        "    :param scores: a score list of documents\n",
        "    :return:  NDCG value\n",
        "    \"\"\"\n",
        "    return dcg(scores)/idcg(scores)\n"
      ],
      "execution_count": null,
      "outputs": []
    },
    {
      "cell_type": "code",
      "metadata": {
        "id": "3oMUxhJ1L7bn"
      },
      "source": [
        "def ndcg_k(scores, k):\n",
        "    scores_k = scores[:k]\n",
        "    dcg_k = dcg(scores_k)\n",
        "    idcg_k = dcg(sorted(scores)[::-1][:k])\n",
        "    if idcg_k == 0:\n",
        "        return np.nan\n",
        "    return dcg_k/idcg_k\n",
        "\n",
        "def group_by(data, qid_index):\n",
        "    \"\"\"\n",
        "    :param data: input_data\n",
        "    :param qid_index: the column num where qid locates in input data\n",
        "    :return: a dict group by qid\n",
        "    \"\"\"\n",
        "    qid_doc_map = {}\n",
        "    idx = 0\n",
        "    for record in data:\n",
        "        qid_doc_map.setdefault(record[qid_index], [])\n",
        "        qid_doc_map[record[qid_index]].append(idx)\n",
        "        idx += 1\n",
        "    return qid_doc_map\n"
      ],
      "execution_count": null,
      "outputs": []
    },
    {
      "cell_type": "code",
      "metadata": {
        "id": "G-QlAynAMAM_"
      },
      "source": [
        "def get_pairs(scores):\n",
        "    \"\"\"\n",
        "    :param scores: given score list of documents for a particular query\n",
        "    :return: the documents pairs whose firth doc has a higher value than second one.\n",
        "    \"\"\"\n",
        "    pairs = []\n",
        "    for i in range(len(scores)):\n",
        "        for j in range(len(scores)):\n",
        "            if scores[i] > scores[j]:\n",
        "                pairs.append((i, j))\n",
        "    return pairs"
      ],
      "execution_count": null,
      "outputs": []
    },
    {
      "cell_type": "code",
      "metadata": {
        "id": "BpPq158gMFqq"
      },
      "source": [
        "def compute_lambda(true_scores, temp_scores, order_pairs, qid):\n",
        "    \"\"\"\n",
        "    :param true_scores: the score list of the documents for the qid query\n",
        "    :param temp_scores: the predict score list of the these documents\n",
        "    :param order_pairs: the partial oder pairs where first document has higher score than the second one\n",
        "    :param qid: specific query id\n",
        "    :return:\n",
        "        lambdas: changed lambda value for these documents\n",
        "        w: w value\n",
        "        qid: query id\n",
        "    \"\"\"\n",
        "    doc_num = len(true_scores)\n",
        "    lambdas = np.zeros(doc_num)\n",
        "    w = np.zeros(doc_num)\n",
        "    IDCG = idcg(true_scores)\n",
        "    single_dcgs = {}\n",
        "    for i, j in order_pairs:\n",
        "        if (i, i) not in single_dcgs:\n",
        "            single_dcgs[(i, i)] = single_dcg(true_scores, i, i)\n",
        "        if (j, j) not in single_dcgs:\n",
        "            single_dcgs[(j, j)] = single_dcg(true_scores, j, j)\n",
        "        single_dcgs[(i, j)] = single_dcg(true_scores, i, j)\n",
        "        single_dcgs[(j, i)] = single_dcg(true_scores, j, i)\n",
        "\n",
        "    for i, j in order_pairs:\n",
        "        delta = abs(single_dcgs[(i,j)] + single_dcgs[(j,i)] - single_dcgs[(i,i)] -single_dcgs[(j,j)])/IDCG\n",
        "        rho = 1 / (1 + np.exp(temp_scores[i] - temp_scores[j]))\n",
        "        lambdas[i] += rho * delta\n",
        "        lambdas[j] -= rho * delta\n",
        "\n",
        "        rho_complement = 1.0 - rho\n",
        "        w[i] += rho * rho_complement * delta\n",
        "        w[i] -= rho * rho_complement * delta\n",
        "\n",
        "    return lambdas, w, qid\n"
      ],
      "execution_count": null,
      "outputs": []
    },
    {
      "cell_type": "code",
      "metadata": {
        "id": "RmmRkw3bMJ5r"
      },
      "source": [
        "class LambdaMART:\n",
        "\n",
        "    def __init__(self, training_data=None, number_of_trees=10, lr = 0.001):\n",
        "        self.training_data = training_data\n",
        "        self.number_of_trees = number_of_trees\n",
        "        self.lr = lr\n",
        "        self.trees = []\n",
        "\n",
        "    def fit(self):\n",
        "        \"\"\"\n",
        "        train the model to fit the train dataset\n",
        "        \"\"\"\n",
        "        qid_doc_map = group_by(self.training_data, 1)\n",
        "        query_idx = qid_doc_map.keys()\n",
        "        # true_scores is a matrix, different rows represent different queries\n",
        "        true_scores = [self.training_data[qid_doc_map[qid], 0] for qid in query_idx]\n",
        "\n",
        "        order_paris = []\n",
        "        for scores in true_scores:\n",
        "            order_paris.append(get_pairs(scores))\n",
        "\n",
        "        sample_num = len(self.training_data)\n",
        "        predicted_scores = np.zeros(sample_num)\n",
        "        for k in range(self.number_of_trees):\n",
        "            print('Tree %d' % k)\n",
        "            lambdas = np.zeros(sample_num)\n",
        "            w = np.zeros(sample_num)\n",
        "\n",
        "            temp_score = [predicted_scores[qid_doc_map[qid]] for qid in query_idx]\n",
        "            zip_parameters = zip(true_scores, temp_score, order_paris, query_idx)\n",
        "            for ts, temps, op, qi in zip_parameters:\n",
        "                sub_lambda, sub_w, qid = compute_lambda(ts, temps, op, qi)\n",
        "                lambdas[qid_doc_map[qid]] = sub_lambda\n",
        "                w[qid_doc_map[qid]] = sub_w\n",
        "            tree = DecisionTreeRegressor(max_depth=50)\n",
        "            tree.fit(self.training_data[:, 2:], lambdas)\n",
        "            self.trees.append(tree)\n",
        "            pred = tree.predict(self.training_data[:, 2:])\n",
        "            predicted_scores += self.lr * pred\n",
        "\n",
        "            # print NDCG\n",
        "            qid_doc_map = group_by(self.training_data, 1)\n",
        "            ndcg_list = []\n",
        "            for qid in qid_doc_map.keys():\n",
        "                subset = qid_doc_map[qid]\n",
        "                sub_pred_score = predicted_scores[subset]\n",
        "\n",
        "                # calculate the predicted NDCG\n",
        "                true_label = self.training_data[qid_doc_map[qid], 0]\n",
        "                topk = len(true_label)\n",
        "                pred_sort_index = np.argsort(sub_pred_score)[::-1]\n",
        "                true_labell = true_label[pred_sort_index]\n",
        "                ndcg_val = ndcg_k(true_labell, topk)\n",
        "                ndcg_list.append(ndcg_val)\n",
        "            print('Epoch:{}, Average NDCG : {}'.format(k, np.nanmean(ndcg_list)))\n",
        "\n",
        "    def predict(self, data):\n",
        "        \"\"\"\n",
        "        predict the score for each document in testset\n",
        "        :param data: given testset\n",
        "        :return:\n",
        "        \"\"\"\n",
        "        qid_doc_map = group_by(data, 1)\n",
        "        predicted_scores = np.zeros(len(data))\n",
        "        for qid in qid_doc_map.keys():\n",
        "            sub_result = np.zeros(len(qid_doc_map[qid]))\n",
        "            for tree in self.trees:\n",
        "                sub_result += self.lr * tree.predict(data[qid_doc_map[qid], 2:])\n",
        "            predicted_scores[qid_doc_map[qid]] = sub_result\n",
        "        return predicted_scores\n",
        "\n",
        "    def validate(self, data, k):\n",
        "        \"\"\"\n",
        "        validate the NDCG metric\n",
        "        :param data: given th testset\n",
        "        :param k: used to compute the NDCG@k\n",
        "        :return:\n",
        "        \"\"\"\n",
        "        #группируем наши данные по qid\n",
        "        qid_doc_map = group_by(data, 1)\n",
        "        ndcg_list = []\n",
        "        predicted_scores = np.zeros(len(data))\n",
        "        for qid in qid_doc_map.keys():\n",
        "            sub_pred_result = np.zeros(len(qid_doc_map[qid]))\n",
        "            for tree in self.trees:\n",
        "                sub_pred_result += self.lr * tree.predict(data[qid_doc_map[qid], 2:])\n",
        "            # предсказанная релевантность\n",
        "            predicted_scores[qid_doc_map[qid]] = sub_pred_result\n",
        "            # calculate the predicted NDCG\n",
        "            # релевантность, кот была \n",
        "            true_label = data[qid_doc_map[qid], 0] \n",
        "            # то, как нужно упорядочить документы (ранжирование)\n",
        "            pred_sort_index = np.argsort(sub_pred_result)[::-1] \n",
        "            # релевантность в предсказанном порядке\n",
        "            true_labell = true_label[pred_sort_index] \n",
        "            # выводим параметры при qid = 10032\n",
        "            if qid == 10032.0:\n",
        "              print(\"Данная релевантность: \", true_label)\n",
        "              print(\"Порядок того как бы мы упорядочили документы : \", pred_sort_index)\n",
        "              print(\"Как расположилась релевантность в предсказанном порядке: \", true_labell)\n",
        "\n",
        "            ndcg_val = ndcg_k(true_labell, k)\n",
        "            ndcg_list.append(ndcg_val)\n",
        "        print('Epoch:{}, Average NDCG : {}'.format(k, np.nanmean(ndcg_list)))\n",
        "\n"
      ],
      "execution_count": null,
      "outputs": []
    },
    {
      "cell_type": "markdown",
      "metadata": {
        "id": "hAN3_9zJP6OU"
      },
      "source": [
        "Загружаем данные"
      ]
    },
    {
      "cell_type": "code",
      "metadata": {
        "id": "xTwaQPliMjFV"
      },
      "source": [
        "import pandas as pd\n",
        "df_train = pd.read_csv('trainData.csv')\n",
        "df_test = pd.read_csv('testData.csv')"
      ],
      "execution_count": null,
      "outputs": []
    },
    {
      "cell_type": "code",
      "metadata": {
        "colab": {
          "base_uri": "https://localhost:8080/",
          "height": 197
        },
        "id": "77oLn_ACQFcJ",
        "outputId": "3afa23c4-4761-4617-e15a-68fb8d19be86"
      },
      "source": [
        "df_train.head()"
      ],
      "execution_count": null,
      "outputs": [
        {
          "output_type": "execute_result",
          "data": {
            "text/html": [
              "<div>\n",
              "<style scoped>\n",
              "    .dataframe tbody tr th:only-of-type {\n",
              "        vertical-align: middle;\n",
              "    }\n",
              "\n",
              "    .dataframe tbody tr th {\n",
              "        vertical-align: top;\n",
              "    }\n",
              "\n",
              "    .dataframe thead th {\n",
              "        text-align: right;\n",
              "    }\n",
              "</style>\n",
              "<table border=\"1\" class=\"dataframe\">\n",
              "  <thead>\n",
              "    <tr style=\"text-align: right;\">\n",
              "      <th></th>\n",
              "      <th>relevance</th>\n",
              "      <th>qid</th>\n",
              "      <th>tf</th>\n",
              "      <th>idf</th>\n",
              "      <th>length</th>\n",
              "      <th>bm25</th>\n",
              "      <th>pagerank</th>\n",
              "      <th>inlink</th>\n",
              "      <th>outlink</th>\n",
              "      <th>slash</th>\n",
              "      <th>urlLength</th>\n",
              "      <th>childPage</th>\n",
              "    </tr>\n",
              "  </thead>\n",
              "  <tbody>\n",
              "    <tr>\n",
              "      <th>0</th>\n",
              "      <td>0</td>\n",
              "      <td>11909</td>\n",
              "      <td>0.048537</td>\n",
              "      <td>0</td>\n",
              "      <td>0.054362</td>\n",
              "      <td>0.000000</td>\n",
              "      <td>0.000000</td>\n",
              "      <td>0.000000</td>\n",
              "      <td>0</td>\n",
              "      <td>0.208262</td>\n",
              "      <td>0.089286</td>\n",
              "      <td>1.000000</td>\n",
              "    </tr>\n",
              "    <tr>\n",
              "      <th>1</th>\n",
              "      <td>0</td>\n",
              "      <td>11909</td>\n",
              "      <td>0.000000</td>\n",
              "      <td>0</td>\n",
              "      <td>0.000000</td>\n",
              "      <td>0.000000</td>\n",
              "      <td>0.000000</td>\n",
              "      <td>0.080000</td>\n",
              "      <td>0</td>\n",
              "      <td>0.000000</td>\n",
              "      <td>0.000000</td>\n",
              "      <td>0.000000</td>\n",
              "    </tr>\n",
              "    <tr>\n",
              "      <th>2</th>\n",
              "      <td>0</td>\n",
              "      <td>11909</td>\n",
              "      <td>0.014989</td>\n",
              "      <td>0</td>\n",
              "      <td>0.005346</td>\n",
              "      <td>1.000000</td>\n",
              "      <td>1.000000</td>\n",
              "      <td>1.000000</td>\n",
              "      <td>0</td>\n",
              "      <td>1.000000</td>\n",
              "      <td>1.000000</td>\n",
              "      <td>0.166667</td>\n",
              "    </tr>\n",
              "    <tr>\n",
              "      <th>3</th>\n",
              "      <td>1</td>\n",
              "      <td>11909</td>\n",
              "      <td>0.048180</td>\n",
              "      <td>0</td>\n",
              "      <td>0.016753</td>\n",
              "      <td>0.000000</td>\n",
              "      <td>1.000000</td>\n",
              "      <td>0.253333</td>\n",
              "      <td>0</td>\n",
              "      <td>0.040667</td>\n",
              "      <td>0.017857</td>\n",
              "      <td>0.000000</td>\n",
              "    </tr>\n",
              "    <tr>\n",
              "      <th>4</th>\n",
              "      <td>2</td>\n",
              "      <td>11909</td>\n",
              "      <td>0.254818</td>\n",
              "      <td>0</td>\n",
              "      <td>0.135242</td>\n",
              "      <td>0.615723</td>\n",
              "      <td>0.333333</td>\n",
              "      <td>0.253333</td>\n",
              "      <td>0</td>\n",
              "      <td>0.004727</td>\n",
              "      <td>0.017857</td>\n",
              "      <td>0.527778</td>\n",
              "    </tr>\n",
              "  </tbody>\n",
              "</table>\n",
              "</div>"
            ],
            "text/plain": [
              "   relevance    qid        tf  idf  ...  outlink     slash  urlLength  childPage\n",
              "0          0  11909  0.048537    0  ...        0  0.208262   0.089286   1.000000\n",
              "1          0  11909  0.000000    0  ...        0  0.000000   0.000000   0.000000\n",
              "2          0  11909  0.014989    0  ...        0  1.000000   1.000000   0.166667\n",
              "3          1  11909  0.048180    0  ...        0  0.040667   0.017857   0.000000\n",
              "4          2  11909  0.254818    0  ...        0  0.004727   0.017857   0.527778\n",
              "\n",
              "[5 rows x 12 columns]"
            ]
          },
          "metadata": {
            "tags": []
          },
          "execution_count": 28
        }
      ]
    },
    {
      "cell_type": "code",
      "metadata": {
        "colab": {
          "base_uri": "https://localhost:8080/",
          "height": 197
        },
        "id": "F09IpvfuQH-H",
        "outputId": "c4b7c939-0714-4812-ded5-cd323a397434"
      },
      "source": [
        "df_test.head()"
      ],
      "execution_count": null,
      "outputs": [
        {
          "output_type": "execute_result",
          "data": {
            "text/html": [
              "<div>\n",
              "<style scoped>\n",
              "    .dataframe tbody tr th:only-of-type {\n",
              "        vertical-align: middle;\n",
              "    }\n",
              "\n",
              "    .dataframe tbody tr th {\n",
              "        vertical-align: top;\n",
              "    }\n",
              "\n",
              "    .dataframe thead th {\n",
              "        text-align: right;\n",
              "    }\n",
              "</style>\n",
              "<table border=\"1\" class=\"dataframe\">\n",
              "  <thead>\n",
              "    <tr style=\"text-align: right;\">\n",
              "      <th></th>\n",
              "      <th>relevance</th>\n",
              "      <th>qid</th>\n",
              "      <th>tf</th>\n",
              "      <th>idf</th>\n",
              "      <th>length</th>\n",
              "      <th>bm25</th>\n",
              "      <th>pagerank</th>\n",
              "      <th>inlink</th>\n",
              "      <th>outlink</th>\n",
              "      <th>slash</th>\n",
              "      <th>urlLength</th>\n",
              "      <th>childPage</th>\n",
              "    </tr>\n",
              "  </thead>\n",
              "  <tbody>\n",
              "    <tr>\n",
              "      <th>0</th>\n",
              "      <td>0</td>\n",
              "      <td>10032</td>\n",
              "      <td>0.031802</td>\n",
              "      <td>0</td>\n",
              "      <td>0.007235</td>\n",
              "      <td>0.0</td>\n",
              "      <td>0.50</td>\n",
              "      <td>0.46875</td>\n",
              "      <td>0</td>\n",
              "      <td>1.000000</td>\n",
              "      <td>1.00</td>\n",
              "      <td>0.153846</td>\n",
              "    </tr>\n",
              "    <tr>\n",
              "      <th>1</th>\n",
              "      <td>0</td>\n",
              "      <td>10032</td>\n",
              "      <td>0.000000</td>\n",
              "      <td>0</td>\n",
              "      <td>0.004242</td>\n",
              "      <td>0.0</td>\n",
              "      <td>0.50</td>\n",
              "      <td>0.25000</td>\n",
              "      <td>0</td>\n",
              "      <td>0.013136</td>\n",
              "      <td>0.25</td>\n",
              "      <td>0.461538</td>\n",
              "    </tr>\n",
              "    <tr>\n",
              "      <th>2</th>\n",
              "      <td>0</td>\n",
              "      <td>10032</td>\n",
              "      <td>0.014134</td>\n",
              "      <td>0</td>\n",
              "      <td>0.000000</td>\n",
              "      <td>0.0</td>\n",
              "      <td>0.25</td>\n",
              "      <td>1.00000</td>\n",
              "      <td>0</td>\n",
              "      <td>0.054746</td>\n",
              "      <td>0.25</td>\n",
              "      <td>0.000000</td>\n",
              "    </tr>\n",
              "    <tr>\n",
              "      <th>3</th>\n",
              "      <td>2</td>\n",
              "      <td>10032</td>\n",
              "      <td>0.067138</td>\n",
              "      <td>0</td>\n",
              "      <td>0.004012</td>\n",
              "      <td>0.0</td>\n",
              "      <td>0.00</td>\n",
              "      <td>0.12500</td>\n",
              "      <td>0</td>\n",
              "      <td>0.000000</td>\n",
              "      <td>0.00</td>\n",
              "      <td>0.076923</td>\n",
              "    </tr>\n",
              "    <tr>\n",
              "      <th>4</th>\n",
              "      <td>0</td>\n",
              "      <td>10032</td>\n",
              "      <td>0.279152</td>\n",
              "      <td>0</td>\n",
              "      <td>0.015094</td>\n",
              "      <td>0.0</td>\n",
              "      <td>0.50</td>\n",
              "      <td>0.00000</td>\n",
              "      <td>0</td>\n",
              "      <td>0.002186</td>\n",
              "      <td>0.25</td>\n",
              "      <td>1.000000</td>\n",
              "    </tr>\n",
              "  </tbody>\n",
              "</table>\n",
              "</div>"
            ],
            "text/plain": [
              "   relevance    qid        tf  idf  ...  outlink     slash  urlLength  childPage\n",
              "0          0  10032  0.031802    0  ...        0  1.000000       1.00   0.153846\n",
              "1          0  10032  0.000000    0  ...        0  0.013136       0.25   0.461538\n",
              "2          0  10032  0.014134    0  ...        0  0.054746       0.25   0.000000\n",
              "3          2  10032  0.067138    0  ...        0  0.000000       0.00   0.076923\n",
              "4          0  10032  0.279152    0  ...        0  0.002186       0.25   1.000000\n",
              "\n",
              "[5 rows x 12 columns]"
            ]
          },
          "metadata": {
            "tags": []
          },
          "execution_count": 29
        }
      ]
    },
    {
      "cell_type": "markdown",
      "metadata": {
        "id": "EMmsH2NTQOi0"
      },
      "source": [
        "Конвертируем csv в numpy, чтобы использовать данные в алгоритме"
      ]
    },
    {
      "cell_type": "code",
      "metadata": {
        "colab": {
          "base_uri": "https://localhost:8080/"
        },
        "id": "Axn9IpESQW8D",
        "outputId": "4afa692e-2652-4115-a243-164ea77815aa"
      },
      "source": [
        "numpy_train = df_train[:].values\n",
        "numpy_test = df_test[:].values\n",
        "numpy_train"
      ],
      "execution_count": null,
      "outputs": [
        {
          "output_type": "execute_result",
          "data": {
            "text/plain": [
              "array([[0.00000e+00, 1.19090e+04, 4.85370e-02, ..., 2.08262e-01,\n",
              "        8.92860e-02, 1.00000e+00],\n",
              "       [0.00000e+00, 1.19090e+04, 0.00000e+00, ..., 0.00000e+00,\n",
              "        0.00000e+00, 0.00000e+00],\n",
              "       [0.00000e+00, 1.19090e+04, 1.49890e-02, ..., 1.00000e+00,\n",
              "        1.00000e+00, 1.66667e-01],\n",
              "       ...,\n",
              "       [0.00000e+00, 1.82180e+04, 2.02020e-02, ..., 1.00000e+00,\n",
              "        1.00000e+00, 2.50000e-01],\n",
              "       [0.00000e+00, 1.82180e+04, 6.06100e-03, ..., 1.11722e-01,\n",
              "        0.00000e+00, 1.25000e-01],\n",
              "       [0.00000e+00, 1.82180e+04, 1.00000e+00, ..., 6.42800e-03,\n",
              "        0.00000e+00, 0.00000e+00]])"
            ]
          },
          "metadata": {
            "tags": []
          },
          "execution_count": 30
        }
      ]
    },
    {
      "cell_type": "markdown",
      "metadata": {
        "id": "s2NRZzEDQb9J"
      },
      "source": [
        "Выбираем определенный запрос из тестовой выбоки"
      ]
    },
    {
      "cell_type": "code",
      "metadata": {
        "colab": {
          "base_uri": "https://localhost:8080/"
        },
        "id": "RY1oUFHxQiGy",
        "outputId": "e36ae3e0-ac19-40d7-ad60-5c799128b861"
      },
      "source": [
        "print(df_test.loc[df_test.qid == 10032])"
      ],
      "execution_count": null,
      "outputs": [
        {
          "output_type": "stream",
          "text": [
            "   relevance    qid        tf  idf  ...  outlink     slash  urlLength  childPage\n",
            "0          0  10032  0.031802    0  ...        0  1.000000       1.00   0.153846\n",
            "1          0  10032  0.000000    0  ...        0  0.013136       0.25   0.461538\n",
            "2          0  10032  0.014134    0  ...        0  0.054746       0.25   0.000000\n",
            "3          2  10032  0.067138    0  ...        0  0.000000       0.00   0.076923\n",
            "4          0  10032  0.279152    0  ...        0  0.002186       0.25   1.000000\n",
            "5          0  10032  0.134276    0  ...        0  0.023578       0.75   1.000000\n",
            "6          1  10032  0.600707    0  ...        0  0.027561       0.50   0.000000\n",
            "7          0  10032  1.000000    0  ...        0  0.187052       0.75   0.000000\n",
            "\n",
            "[8 rows x 12 columns]\n"
          ],
          "name": "stdout"
        }
      ]
    },
    {
      "cell_type": "markdown",
      "metadata": {
        "id": "eassww9wQrR9"
      },
      "source": [
        "Запускаем"
      ]
    },
    {
      "cell_type": "code",
      "metadata": {
        "colab": {
          "base_uri": "https://localhost:8080/"
        },
        "id": "9idCqPs9MPan",
        "outputId": "686e8342-ad24-4aec-c2ea-0be1847af883"
      },
      "source": [
        "if __name__ == '__main__':\n",
        "    training_data = numpy_train\n",
        "    model = LambdaMART(training_data, 20, 0.01)\n",
        "    model.fit()"
      ],
      "execution_count": null,
      "outputs": [
        {
          "output_type": "stream",
          "text": [
            "Tree 0\n",
            "Epoch:0, Average NDCG : 0.9979443274266028\n",
            "Tree 1\n",
            "Epoch:1, Average NDCG : 0.9979443274266028\n",
            "Tree 2\n",
            "Epoch:2, Average NDCG : 0.9979443274266028\n",
            "Tree 3\n",
            "Epoch:3, Average NDCG : 0.9979443274266028\n",
            "Tree 4\n",
            "Epoch:4, Average NDCG : 0.9979443274266028\n",
            "Tree 5\n",
            "Epoch:5, Average NDCG : 0.9979443274266028\n",
            "Tree 6\n",
            "Epoch:6, Average NDCG : 0.9979443274266028\n",
            "Tree 7\n",
            "Epoch:7, Average NDCG : 0.9979443274266028\n",
            "Tree 8\n",
            "Epoch:8, Average NDCG : 0.9979443274266028\n",
            "Tree 9\n",
            "Epoch:9, Average NDCG : 0.9979443274266028\n",
            "Tree 10\n",
            "Epoch:10, Average NDCG : 0.9979443274266028\n",
            "Tree 11\n",
            "Epoch:11, Average NDCG : 0.9979443274266028\n",
            "Tree 12\n",
            "Epoch:12, Average NDCG : 0.9979443274266028\n",
            "Tree 13\n",
            "Epoch:13, Average NDCG : 0.9979443274266028\n",
            "Tree 14\n",
            "Epoch:14, Average NDCG : 0.9979443274266028\n",
            "Tree 15\n",
            "Epoch:15, Average NDCG : 0.9979443274266028\n",
            "Tree 16\n",
            "Epoch:16, Average NDCG : 0.9979443274266028\n",
            "Tree 17\n",
            "Epoch:17, Average NDCG : 0.9979443274266028\n",
            "Tree 18\n",
            "Epoch:18, Average NDCG : 0.9979443274266028\n",
            "Tree 19\n",
            "Epoch:19, Average NDCG : 0.9979443274266028\n"
          ],
          "name": "stdout"
        }
      ]
    },
    {
      "cell_type": "code",
      "metadata": {
        "colab": {
          "base_uri": "https://localhost:8080/"
        },
        "id": "8gQ874YXSMh1",
        "outputId": "ee6e780f-badb-44b0-efab-5081350ed680"
      },
      "source": [
        "#сравним значения на тренировочной и тестовой выборке   \n",
        "#тренировочная\n",
        "k = 10\n",
        "test_data = numpy_train\n",
        "ndcg = model.validate(test_data, k)\n"
      ],
      "execution_count": null,
      "outputs": [
        {
          "output_type": "stream",
          "text": [
            "Epoch:10, Average NDCG : 0.9977069382261459\n"
          ],
          "name": "stdout"
        }
      ]
    },
    {
      "cell_type": "code",
      "metadata": {
        "colab": {
          "base_uri": "https://localhost:8080/"
        },
        "id": "mt-pH3EywGjl",
        "outputId": "279cb77a-ec77-4003-c3ce-7b52e0c34390"
      },
      "source": [
        "#тестовая \n",
        "k= 10\n",
        "test_data = numpy_test\n",
        "ndcg = model.validate(test_data, k)"
      ],
      "execution_count": null,
      "outputs": [
        {
          "output_type": "stream",
          "text": [
            "Данная релевантность:  [0. 0. 0. 2. 0. 0. 1. 0.]\n",
            "Порядок того как бы мы упорядочили документы :  [4 7 6 1 2 0 5 3]\n",
            "Как расположилась релевантность в предсказанном порядке:  [0. 0. 1. 0. 0. 0. 0. 2.]\n",
            "Epoch:10, Average NDCG : 0.5444679136514768\n"
          ],
          "name": "stdout"
        }
      ]
    },
    {
      "cell_type": "markdown",
      "metadata": {
        "id": "XptiQ-fyp5rV"
      },
      "source": [
        "ВЫВОД: \n",
        "\n",
        "Модель переобучена, т.к. на тренировочной выборке оценка качества близится к 1 \n",
        "\n",
        "Также, можно сказать, что модель плохо работает, т.к. качество на тестовой выборке варируется в пределах 0,4-0,5\n",
        "\n",
        "Это можно увидеть на примере запроса 10032\n",
        "\n",
        "Полученный вариант ранжирования не является идеальным т.к. релевантность расположена не от большего к меньшему, а в порядке ближе к хаотичному (самый релевантный документ стоит на последнем месте). "
      ]
    }
  ]
}